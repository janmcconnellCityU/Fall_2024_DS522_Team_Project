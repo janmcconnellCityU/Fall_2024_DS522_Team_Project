{
 "cells": [
  {
   "cell_type": "markdown",
   "metadata": {},
   "source": [
    "Initial data exploration to pull data. Work on cleaning and preparing for analysis."
   ]
  },
  {
   "cell_type": "code",
   "execution_count": 147,
   "metadata": {},
   "outputs": [],
   "source": [
    "# Import necessary modules\n",
    "import os\n",
    "import glob\n",
    "import pandas as pd\n",
    "import numpy as np\n",
    "\n",
    "pd.set_option('display.max_columns', None) # Makes pandas full width with scrollable window."
   ]
  },
  {
   "cell_type": "code",
   "execution_count": 148,
   "metadata": {},
   "outputs": [],
   "source": [
    "# Initialize variables for working directories where the data is located.\n",
    "players_directory = './players'\n",
    "shots_directory = './shots'"
   ]
  },
  {
   "cell_type": "code",
   "execution_count": 149,
   "metadata": {},
   "outputs": [
    {
     "name": "stdout",
     "output_type": "stream",
     "text": [
      "   index league  player_id   salary   season  season_end  season_start                    team\n",
      "0      0    NBA  abdelal01   395000  1990-91        1991          1990  Portland Trail Blazers\n",
      "1      1    NBA  abdelal01   494000  1991-92        1992          1991  Portland Trail Blazers\n",
      "2      2    NBA  abdelal01   500000  1992-93        1993          1992          Boston Celtics\n",
      "3      3    NBA  abdelal01   805000  1993-94        1994          1993          Boston Celtics\n",
      "4      4    NBA  abdelal01   650000  1994-95        1995          1994        Sacramento Kings\n",
      "5      5    NBA  abdulka01  1530000  1984-85        1985          1984      Los Angeles Lakers\n",
      "6      6    NBA  abdulka01  2030000  1985-86        1986          1985      Los Angeles Lakers\n",
      "7      7    NBA  abdulka01  2000000  1987-88        1988          1987      Los Angeles Lakers\n",
      "8      8    NBA  abdulka01  3000000  1988-89        1989          1988      Los Angeles Lakers\n",
      "9      9    NBA  abdulma02  1660000  1990-91        1991          1990          Denver Nuggets\n"
     ]
    }
   ],
   "source": [
    "# Load the salary data into a dataframe.\n",
    "salaries_df = pd.read_csv(players_directory + '/salaries_1985to2018.csv')\n",
    "\n",
    "print(salaries_df.head(10))"
   ]
  },
  {
   "cell_type": "code",
   "execution_count": 150,
   "metadata": {},
   "outputs": [
    {
     "name": "stdout",
     "output_type": "stream",
     "text": [
      "   index        _id          birthDate                birthPlace  career_AST career_FG% career_FG3% career_FT%  career_G career_PER  career_PTS career_TRB career_WS career_eFG%                                            college    draft_pick    draft_round              draft_team draft_year height                               highSchool                 name                                    position shoots weight\n",
      "0      0  abdelal01      June 24, 1968              Cairo, Egypt         0.3       50.2         0.0       70.1       256       13.0         5.7        3.3       4.8        50.2                                    Duke University  25th overall      1st round  Portland Trail Blazers       1990   6-10     Bloomfield in Bloomfield, New Jersey       Alaa Abdelnaby                               Power Forward  Right  240lb\n",
      "1      1  abdulza01      April 7, 1946        Brooklyn, New York         1.2       42.8         NaN       72.8       505       15.1         9.0        8.0      17.5         NaN                              Iowa State University   5th overall      1st round       Cincinnati Royals       1968    6-9           John Jay in Brooklyn, New York      Zaid Abdul-Aziz                    Power Forward and Center  Right  235lb\n",
      "2      2  abdulka01     April 16, 1947        New York, New York         3.6       55.9         5.6       72.1      1560       24.6        24.6       11.2     273.4        55.9              University of California, Los Angeles   1st overall      1st round         Milwaukee Bucks       1969    7-2     Power Memorial in New York, New York  Kareem Abdul-Jabbar                                      Center  Right  225lb\n",
      "3      3  abdulma02      March 9, 1969     Gulfport, Mississippi         3.5       44.2        35.4       90.5       586       15.4        14.6        1.9      25.2        47.2                         Louisiana State University   3rd overall      1st round          Denver Nuggets       1990    6-1        Gulfport in Gulfport, Mississippi   Mahmoud Abdul-Rauf                                 Point Guard  Right  162lb\n",
      "4      4  abdulta01   November 3, 1974    Maisons Alfort, France         1.1       41.7        23.7       70.3       236       11.4         7.8        3.3       3.5        42.2  University of Michigan, San Jose State University  11th overall      1st round        Sacramento Kings       1997    6-6  Lycee Aristide Briand in Evreux, France    Tariq Abdul-Wahad                              Shooting Guard  Right  223lb\n",
      "5      5  abdursh01  December 11, 1976         Marietta, Georgia         2.5       47.2        29.7       81.0       830       19.0        18.1        7.5      71.2        47.9                           University of California   3rd overall      1st round     Vancouver Grizzlies       1996    6-9             Wheeler in Marietta, Georgia  Shareef Abdur-Rahim  Center and Small Forward and Power Forward  Right  225lb\n",
      "6      6  abernto01        May 6, 1954       South Bend, Indiana         1.2       49.2         0.0       74.7       319       12.9         5.6        3.2      13.4        49.2                                 Indiana University  43rd overall      3rd round      Los Angeles Lakers       1976    6-7      Saint Joseph in South Bend, Indiana        Tom Abernethy             Small Forward and Power Forward  Right  220lb\n",
      "7      7   ablefo01      July 27, 1932                       NaN         1.0        0.0         NaN          -         1      -41.1         0.0        1.0       0.0         NaN                        Western Kentucky University           NaN  1956 NBA Draf      Syracuse Nationals        NaN    6-3         Fairdale in Louisville, Kentucky          Forest Able                                       Guard  Right  180lb\n",
      "8      8  abramjo01   February 9, 1919        Etna, Pennsylvania         0.7       23.7         NaN       68.6        56          -         9.5          -      -1.9         NaN                     Salem International University           NaN            NaN                     NaN        NaN    6-3               Etna in Etna, Pennsylvania       John Abramovic                                     Forward  Right  195lb\n",
      "9      9  abrinal01     August 1, 1993  Palma de Mallorca, Spain         0.5       38.7        36.8       88.0       174        8.8         5.3        1.4       5.0        52.5                                                NaN  32nd overall      2nd round   Oklahoma City Thunder       2013    6-6                                      NaN         Alex Abrines                              Shooting Guard  Right  200lb\n"
     ]
    }
   ],
   "source": [
    "# Load the player data into a dataframe and print the head.\n",
    "players_df= pd.read_csv(players_directory + '/players.csv')\n",
    "\n",
    "print(players_df.head(10))"
   ]
  },
  {
   "cell_type": "code",
   "execution_count": 151,
   "metadata": {},
   "outputs": [
    {
     "name": "stdout",
     "output_type": "stream",
     "text": [
      "   SEASON_1 SEASON_2     TEAM_ID           TEAM_NAME  PLAYER_ID   PLAYER_NAME POSITION_GROUP POSITION   GAME_DATE   GAME_ID HOME_TEAM AWAY_TEAM   EVENT_TYPE  SHOT_MADE                     ACTION_TYPE       SHOT_TYPE             BASIC_ZONE          ZONE_NAME ZONE_ABB       ZONE_RANGE  LOC_X  LOC_Y  SHOT_DISTANCE  QUARTER  MINS_LEFT  SECS_LEFT\n",
      "0      2024  2023-24  1610612764  Washington Wizards    1629673  Jordan Poole              G       SG  11-03-2023  22300003       MIA       WAS  Missed Shot      False      Driving Floating Jump Shot  2PT Field Goal  In The Paint (Non-RA)             Center        C         8-16 ft.   -0.4  17.45             12        1         11          1\n",
      "1      2024  2023-24  1610612764  Washington Wizards    1630166   Deni Avdija              F       SF  11-03-2023  22300003       MIA       WAS    Made Shot       True                       Jump Shot  3PT Field Goal      Above the Break 3             Center        C          24+ ft.    1.5  30.55             25        1         10         26\n",
      "2      2024  2023-24  1610612764  Washington Wizards    1626145    Tyus Jones              G       PG  11-03-2023  22300003       MIA       WAS    Made Shot       True              Driving Layup Shot  2PT Field Goal        Restricted Area             Center        C  Less Than 8 ft.   -3.3   6.55              3        1          9         46\n",
      "3      2024  2023-24  1610612764  Washington Wizards    1629673  Jordan Poole              G       SG  11-03-2023  22300003       MIA       WAS    Made Shot       True  Running Finger Roll Layup Shot  2PT Field Goal        Restricted Area             Center        C  Less Than 8 ft.   -1.0   5.85              1        1          8         30\n",
      "4      2024  2023-24  1610612764  Washington Wizards    1626145    Tyus Jones              G       PG  11-03-2023  22300003       MIA       WAS    Made Shot       True              Cutting Layup Shot  2PT Field Goal        Restricted Area             Center        C  Less Than 8 ft.   -0.0   6.25              1        1          8          8\n",
      "5      2024  2023-24  1610612764  Washington Wizards    1628398    Kyle Kuzma              F       PF  11-03-2023  22300003       MIA       WAS    Made Shot       True                       Jump Shot  3PT Field Goal      Above the Break 3   Left Side Center       LC          24+ ft.   21.2  17.45             24        1          7         40\n",
      "6      2024  2023-24  1610612764  Washington Wizards    1626145    Tyus Jones              G       PG  11-03-2023  22300003       MIA       WAS    Made Shot       True                       Jump Shot  3PT Field Goal      Above the Break 3  Right Side Center       RC          24+ ft.  -22.2  17.25             25        1          7          8\n",
      "7      2024  2023-24  1610612764  Washington Wizards    1629673  Jordan Poole              G       SG  11-03-2023  22300003       MIA       WAS    Made Shot       True                       Jump Shot  3PT Field Goal      Above the Break 3   Left Side Center       LC          24+ ft.   19.0  20.75             24        1          6         38\n",
      "8      2024  2023-24  1610612764  Washington Wizards    1630166   Deni Avdija              F       SF  11-03-2023  22300003       MIA       WAS    Made Shot       True              Cutting Layup Shot  2PT Field Goal        Restricted Area             Center        C  Less Than 8 ft.   -2.0   7.25              2        1          6          1\n",
      "9      2024  2023-24  1610612764  Washington Wizards    1630166   Deni Avdija              F       SF  11-03-2023  22300003       MIA       WAS    Made Shot       True             Step Back Jump shot  2PT Field Goal              Mid-Range             Center        C        16-24 ft.   -1.5  27.65             22        1          5         36\n"
     ]
    }
   ],
   "source": [
    "# Load the shots data for 2024 into a dataframe and print the head.\n",
    "shots_2024_df = pd.read_csv(shots_directory + '/NBA_2024_Shots.csv')\n",
    "\n",
    "print(shots_2024_df.head(10))"
   ]
  },
  {
   "cell_type": "markdown",
   "metadata": {},
   "source": [
    "As seen in the dataframe heads above, the 'salaries_1985to2018.csv' and 'players.csv' are joinable on the 'player_id' and '_id' columns in each file respectively. This makes sense given that these files are both from the same dataset.\n",
    "\n",
    "Using the 'NBA_2024_Shots.csv' as an example from our shots directory, we see the need to create an id column that can be used to join the data.\n",
    "\n",
    "The id columns in the 'salaries_1985to2018.csv' and 'players.csv' appear to have been generated from the first five characters of the last name, first two characters of the first name, and a calculated number starting at 01, incrementing up if there are duplications due to players having similar names.\n",
    "\n",
    "We will define a function that will perform this same action on our shots data."
   ]
  },
  {
   "cell_type": "code",
   "execution_count": 152,
   "metadata": {},
   "outputs": [],
   "source": [
    "# First, we need to split the 'PLAYER_NAME' column to separate the first and last names.\n",
    "shots_2024_df[['first_name', 'last_name']] = shots_2024_df['PLAYER_NAME'].str.split(' ', n=1, expand=True)"
   ]
  },
  {
   "cell_type": "code",
   "execution_count": 153,
   "metadata": {},
   "outputs": [
    {
     "name": "stdout",
     "output_type": "stream",
     "text": [
      "    PLAYER_NAME first_name last_name\n",
      "0  Jordan Poole     Jordan     Poole\n",
      "1   Deni Avdija       Deni    Avdija\n",
      "2    Tyus Jones       Tyus     Jones\n",
      "3  Jordan Poole     Jordan     Poole\n",
      "4    Tyus Jones       Tyus     Jones\n",
      "5    Kyle Kuzma       Kyle     Kuzma\n",
      "6    Tyus Jones       Tyus     Jones\n",
      "7  Jordan Poole     Jordan     Poole\n",
      "8   Deni Avdija       Deni    Avdija\n",
      "9   Deni Avdija       Deni    Avdija\n"
     ]
    }
   ],
   "source": [
    "#Print the head to see the new columns generated from the existing 'PLAYER_NAME' column.\n",
    "print(shots_2024_df[['PLAYER_NAME', 'first_name', 'last_name']].head(10))"
   ]
  },
  {
   "cell_type": "code",
   "execution_count": 154,
   "metadata": {},
   "outputs": [],
   "source": [
    "# Dictionary to store PLAYER_ID mapped to new_player_id, to only create a new id if the player is truly a one off where the id generated is a dup of another player.\n",
    "player_id_map = {}\n",
    "\n",
    "# Create a function to generate new_player_id from first name, last name, and a dynamic incremented value to deal with duplicates.\n",
    "def generate_new_player_id(row, player_id_counts):\n",
    "    player_id = row['PLAYER_ID']  # Use the existing PLAYER_ID for consistency\n",
    "    \n",
    "    # Check if we've already generated a new_player_id for this PLAYER_ID\n",
    "    if player_id in player_id_map:\n",
    "        return player_id_map[player_id]\n",
    "    \n",
    "    last_name = row['last_name'].lower()[:5]  # Get the first 5 letters of last name.\n",
    "    first_name = row['first_name'].lower()[:2]  # Get the first 2 letters of first name.\n",
    "    base_name_id = last_name + first_name\n",
    "    \n",
    "    # Check if the base_name_id already exists, if it does increment the number that will be appended\n",
    "    if base_name_id in player_id_counts:\n",
    "        player_id_counts[base_name_id] += 1\n",
    "    else:\n",
    "        player_id_counts[base_name_id] = 1\n",
    "    \n",
    "    # Format the number as two digits (01, 02, 03, 04, etc...)\n",
    "    new_player_id = base_name_id + f\"{player_id_counts[base_name_id]:02d}\"\n",
    "    \n",
    "    # Save the generated new_player_id for future use\n",
    "    player_id_map[player_id] = new_player_id\n",
    "    \n",
    "    return new_player_id"
   ]
  },
  {
   "cell_type": "code",
   "execution_count": 155,
   "metadata": {},
   "outputs": [
    {
     "name": "stdout",
     "output_type": "stream",
     "text": [
      "    PLAYER_NAME  PLAYER_ID first_name last_name new_player_id\n",
      "0  Jordan Poole    1629673     Jordan     Poole     poolejo01\n",
      "1   Deni Avdija    1630166       Deni    Avdija     avdijde01\n",
      "2    Tyus Jones    1626145       Tyus     Jones     jonesty01\n",
      "3  Jordan Poole    1629673     Jordan     Poole     poolejo01\n",
      "4    Tyus Jones    1626145       Tyus     Jones     jonesty01\n",
      "5    Kyle Kuzma    1628398       Kyle     Kuzma     kuzmaky01\n",
      "6    Tyus Jones    1626145       Tyus     Jones     jonesty01\n",
      "7  Jordan Poole    1629673     Jordan     Poole     poolejo01\n",
      "8   Deni Avdija    1630166       Deni    Avdija     avdijde01\n",
      "9   Deni Avdija    1630166       Deni    Avdija     avdijde01\n"
     ]
    }
   ],
   "source": [
    "# Create a dictionary to keep track of counts for each base_name_id\n",
    "player_id_counts = {}\n",
    "\n",
    "# Apply the function to create the new_player_id column\n",
    "shots_2024_df['new_player_id'] = shots_2024_df.apply(generate_new_player_id, axis=1, player_id_counts=player_id_counts)\n",
    "\n",
    "# Print the head to see the new_player_id generated from the existing columns.\n",
    "print(shots_2024_df[['PLAYER_NAME', 'PLAYER_ID', 'first_name', 'last_name', 'new_player_id']].head(10))"
   ]
  },
  {
   "cell_type": "code",
   "execution_count": 156,
   "metadata": {},
   "outputs": [],
   "source": [
    "# Now that we have the new_player_id that should match the ids from the salaries_df and players_df, we can merge the dataframes.\n",
    "\n",
    "#Todo: Swap to 2018 shots, realizing now that salaries data only has up to 2018. Then, isolate the salaries for 2018, we only want to explore that single year for this initial exploration.\n",
    "# Once that is completed, we should be able to merge the dataframes on records with matching player ids."
   ]
  }
 ],
 "metadata": {
  "kernelspec": {
   "display_name": "Python 3",
   "language": "python",
   "name": "python3"
  },
  "language_info": {
   "codemirror_mode": {
    "name": "ipython",
    "version": 3
   },
   "file_extension": ".py",
   "mimetype": "text/x-python",
   "name": "python",
   "nbconvert_exporter": "python",
   "pygments_lexer": "ipython3",
   "version": "3.11.1"
  }
 },
 "nbformat": 4,
 "nbformat_minor": 2
}
